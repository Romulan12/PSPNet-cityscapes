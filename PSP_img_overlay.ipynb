{
  "nbformat": 4,
  "nbformat_minor": 0,
  "metadata": {
    "colab": {
      "name": "PSP_img_overlay.ipynb",
      "provenance": [],
      "collapsed_sections": []
    },
    "kernelspec": {
      "name": "python3",
      "display_name": "Python 3"
    }
  },
  "cells": [
    {
      "cell_type": "code",
      "metadata": {
        "id": "_xSdkQSqc-bp",
        "colab_type": "code",
        "colab": {}
      },
      "source": [
        "import matplotlib\n",
        "from matplotlib import gridspec\n",
        "from matplotlib import pyplot as plt\n",
        "import numpy as np\n",
        "from PIL import Image\n",
        "import cv2 as cv\n",
        "import os"
      ],
      "execution_count": 0,
      "outputs": []
    },
    {
      "cell_type": "code",
      "metadata": {
        "id": "GATCRj1ydp6Y",
        "colab_type": "code",
        "colab": {}
      },
      "source": [
        "def create_label_colormap():\n",
        "    \"\"\"Creates a label colormap used in Cityscapes segmentation benchmark.\n",
        "\n",
        "    Returns:\n",
        "        A Colormap for visualizing segmentation results.\n",
        "    \"\"\"\n",
        "    colormap = np.array([# [  0,   0,   0],\n",
        "        [128, 64, 128],\n",
        "        [244, 35, 232],\n",
        "        [70, 70, 70],\n",
        "        [102, 102, 156],\n",
        "        [190, 153, 153],\n",
        "        [153, 153, 153],\n",
        "        [250, 170, 30],\n",
        "        [220, 220, 0],\n",
        "        [107, 142, 35],\n",
        "        [152, 251, 152],\n",
        "        [0, 130, 180],\n",
        "        [220, 20, 60],\n",
        "        [255, 0, 0],\n",
        "        [0, 0, 142],\n",
        "        [0, 0, 70],\n",
        "        [0, 60, 100],\n",
        "        [0, 80, 100],\n",
        "        [0, 0, 230],\n",
        "        [119, 11, 32],\n",
        "        ], dtype=np.uint8)\n",
        "    return colormap\n",
        "\n",
        "\n",
        "def label_to_color_image(label):\n",
        "    \"\"\"Adds color defined by the dataset colormap to the label.\n",
        "\n",
        "    Args:\n",
        "        label: A 2D array with integer type, storing the segmentation label.\n",
        "\n",
        "    Returns:\n",
        "        result: A 2D array with floating type. The element of the array\n",
        "            is the color indexed by the corresponding element in the input label\n",
        "            to the PASCAL color map.\n",
        "\n",
        "    Raises:\n",
        "        ValueError: If label is not of rank 2 or its value is larger than color\n",
        "            map maximum entry.\n",
        "    \"\"\"\n",
        "  \n",
        "    if label.ndim != 2:\n",
        "        raise ValueError('Expect 2-D input label')\n",
        "\n",
        "    colormap = create_label_colormap()\n",
        "    \n",
        "\n",
        "    if np.max(label) >= len(colormap):\n",
        "        raise ValueError('label value too large.')\n",
        "    return colormap[label]\n",
        "\n",
        "LABEL_NAMES = np.asarray([\n",
        "            \"road\",\n",
        "            \"sidewalk\",\n",
        "            \"building\",\n",
        "            \"wall\",\n",
        "            \"fence\",\n",
        "            \"pole\",\n",
        "            \"traffic_light\",\n",
        "            \"traffic_sign\",\n",
        "            \"vegetation\",\n",
        "            \"terrain\",\n",
        "            \"sky\",\n",
        "            \"person\",\n",
        "            \"rider\",\n",
        "            \"car\",\n",
        "            \"truck\",\n",
        "            \"bus\",\n",
        "            \"train\",\n",
        "            \"motorcycle\",\n",
        "            \"bicycle\",])\n",
        "\n",
        "\n",
        "\n",
        "FULL_LABEL_MAP = np.arange(len(LABEL_NAMES)).reshape(len(LABEL_NAMES), 1)\n",
        "FULL_COLOR_MAP = label_to_color_image(FULL_LABEL_MAP)"
      ],
      "execution_count": 0,
      "outputs": []
    },
    {
      "cell_type": "code",
      "metadata": {
        "id": "yKm9uHhUUzP6",
        "colab_type": "code",
        "colab": {}
      },
      "source": [
        "def vis_segmentation(image, seg_map, out_path):\n",
        "    \"\"\"Visualizes input image, segmentation map and overlay view.\"\"\"\n",
        "    plt.figure(figsize=(20, 4))\n",
        "    grid_spec = gridspec.GridSpec(1, 4, width_ratios=[6, 6, 6, 1])\n",
        "\n",
        "    plt.subplot(grid_spec[0])\n",
        "    plt.imshow(image)\n",
        "    plt.axis('off')\n",
        "    plt.title('input image')\n",
        "\n",
        "    plt.subplot(grid_spec[1])\n",
        "  \n",
        "    seg_image = seg_map\n",
        "    plt.imshow(seg_image)\n",
        "    plt.axis('off')\n",
        "    plt.title('segmentation map')\n",
        "\n",
        "    plt.subplot(grid_spec[2])\n",
        "    plt.imshow(image)\n",
        "    plt.imshow(seg_image, alpha=0.7)\n",
        "    plt.axis('off')\n",
        "    plt.title('segmentation overlay')\n",
        "\n",
        "    #plt.show()\n",
        "    plt.savefig(out_path)\n",
        "    plt.close()  "
      ],
      "execution_count": 0,
      "outputs": []
    },
    {
      "cell_type": "code",
      "metadata": {
        "id": "QwS0kRSkdOGZ",
        "colab_type": "code",
        "colab": {}
      },
      "source": [
        "out_path = \"/content/drive/My Drive/cityscapes/model/PSP/RESULTS/\"\n",
        "dataset_root_dir = \"/content/drive/My Drive/cityscapes\"\n",
        "mask_image_path = \"/content/drive/My Drive/cityscapes/model/PSP/RESULTS/\"\n",
        "test_path_dir = \"/content/drive/My Drive/cityscapes/leftImg8bit/test/\"\n",
        "#image_path = \"/content/drive/My Drive/cityscapes/leftImg8bit/test/bonn/bonn_000000_000019_leftImg8bit.png\"\n",
        "#mask_image = \"/content/drive/My Drive/cityscapes/model/PSP/RESULTS/bonn/bonn_000000_000019_leftImg8bit.png\""
      ],
      "execution_count": 0,
      "outputs": []
    },
    {
      "cell_type": "code",
      "metadata": {
        "id": "GZovXYa9c9jx",
        "colab_type": "code",
        "colab": {}
      },
      "source": [
        "def run_visualization(image_path, mask_image,out_path):\n",
        "    \"\"\"Inferences DeepLab model and visualizes result.\"\"\"\n",
        "    original_im = Image.open(image_path)\n",
        "    seg_map = Image.open(mask_image)\n",
        "    vis_segmentation(original_im, seg_map,out_path)"
      ],
      "execution_count": 0,
      "outputs": []
    },
    {
      "cell_type": "code",
      "metadata": {
        "id": "KCfv3ohmiGkv",
        "colab_type": "code",
        "colab": {
          "base_uri": "https://localhost:8080/",
          "height": 790
        },
        "outputId": "35667544-d8c6-45c9-a97d-e5542509eb54"
      },
      "source": [
        "test_dirs = ['bonn/']\n",
        "for t in test_dirs:\n",
        "  test_path = test_path_dir + t\n",
        "  mask_path = mask_image_path + t\n",
        "  file_names = os.listdir(test_path)\n",
        "  for f in file_names: \n",
        "    img_path = test_path + f \n",
        "    print(img_path)\n",
        "    mask_image = mask_path + f\n",
        "    run_visualization(img_path, mask_image,out_path + f)\n"
      ],
      "execution_count": 18,
      "outputs": [
        {
          "output_type": "stream",
          "text": [
            "/content/drive/My Drive/cityscapes/leftImg8bit/test/bonn/bonn_000007_000019_leftImg8bit.png\n",
            "/content/drive/My Drive/cityscapes/leftImg8bit/test/bonn/bonn_000037_000019_leftImg8bit.png\n",
            "/content/drive/My Drive/cityscapes/leftImg8bit/test/bonn/bonn_000033_000019_leftImg8bit.png\n",
            "/content/drive/My Drive/cityscapes/leftImg8bit/test/bonn/bonn_000014_000019_leftImg8bit.png\n",
            "/content/drive/My Drive/cityscapes/leftImg8bit/test/bonn/bonn_000026_000019_leftImg8bit.png\n",
            "/content/drive/My Drive/cityscapes/leftImg8bit/test/bonn/bonn_000043_000019_leftImg8bit.png\n",
            "/content/drive/My Drive/cityscapes/leftImg8bit/test/bonn/bonn_000022_000019_leftImg8bit.png\n",
            "/content/drive/My Drive/cityscapes/leftImg8bit/test/bonn/bonn_000034_000019_leftImg8bit.png\n",
            "/content/drive/My Drive/cityscapes/leftImg8bit/test/bonn/bonn_000018_000019_leftImg8bit.png\n",
            "/content/drive/My Drive/cityscapes/leftImg8bit/test/bonn/bonn_000012_000019_leftImg8bit.png\n",
            "/content/drive/My Drive/cityscapes/leftImg8bit/test/bonn/bonn_000004_000019_leftImg8bit.png\n",
            "/content/drive/My Drive/cityscapes/leftImg8bit/test/bonn/bonn_000030_000019_leftImg8bit.png\n",
            "/content/drive/My Drive/cityscapes/leftImg8bit/test/bonn/bonn_000024_000019_leftImg8bit.png\n",
            "/content/drive/My Drive/cityscapes/leftImg8bit/test/bonn/bonn_000039_000019_leftImg8bit.png\n",
            "/content/drive/My Drive/cityscapes/leftImg8bit/test/bonn/bonn_000020_000019_leftImg8bit.png\n",
            "/content/drive/My Drive/cityscapes/leftImg8bit/test/bonn/bonn_000032_000019_leftImg8bit.png\n",
            "/content/drive/My Drive/cityscapes/leftImg8bit/test/bonn/bonn_000042_000019_leftImg8bit.png\n",
            "/content/drive/My Drive/cityscapes/leftImg8bit/test/bonn/bonn_000040_000019_leftImg8bit.png\n",
            "/content/drive/My Drive/cityscapes/leftImg8bit/test/bonn/bonn_000011_000019_leftImg8bit.png\n",
            "/content/drive/My Drive/cityscapes/leftImg8bit/test/bonn/bonn_000013_000019_leftImg8bit.png\n",
            "/content/drive/My Drive/cityscapes/leftImg8bit/test/bonn/bonn_000009_000019_leftImg8bit.png\n",
            "/content/drive/My Drive/cityscapes/leftImg8bit/test/bonn/bonn_000041_000019_leftImg8bit.png\n",
            "/content/drive/My Drive/cityscapes/leftImg8bit/test/bonn/bonn_000003_000019_leftImg8bit.png\n",
            "/content/drive/My Drive/cityscapes/leftImg8bit/test/bonn/bonn_000006_000019_leftImg8bit.png\n",
            "/content/drive/My Drive/cityscapes/leftImg8bit/test/bonn/bonn_000016_000019_leftImg8bit.png\n",
            "/content/drive/My Drive/cityscapes/leftImg8bit/test/bonn/bonn_000017_000019_leftImg8bit.png\n",
            "/content/drive/My Drive/cityscapes/leftImg8bit/test/bonn/bonn_000035_000019_leftImg8bit.png\n",
            "/content/drive/My Drive/cityscapes/leftImg8bit/test/bonn/bonn_000025_000019_leftImg8bit.png\n",
            "/content/drive/My Drive/cityscapes/leftImg8bit/test/bonn/bonn_000038_000019_leftImg8bit.png\n",
            "/content/drive/My Drive/cityscapes/leftImg8bit/test/bonn/bonn_000005_000019_leftImg8bit.png\n",
            "/content/drive/My Drive/cityscapes/leftImg8bit/test/bonn/bonn_000036_000019_leftImg8bit.png\n",
            "/content/drive/My Drive/cityscapes/leftImg8bit/test/bonn/bonn_000045_000019_leftImg8bit.png\n",
            "/content/drive/My Drive/cityscapes/leftImg8bit/test/bonn/bonn_000023_000019_leftImg8bit.png\n",
            "/content/drive/My Drive/cityscapes/leftImg8bit/test/bonn/bonn_000019_000019_leftImg8bit.png\n",
            "/content/drive/My Drive/cityscapes/leftImg8bit/test/bonn/bonn_000000_000019_leftImg8bit.png\n",
            "/content/drive/My Drive/cityscapes/leftImg8bit/test/bonn/bonn_000044_000019_leftImg8bit.png\n",
            "/content/drive/My Drive/cityscapes/leftImg8bit/test/bonn/bonn_000031_000019_leftImg8bit.png\n",
            "/content/drive/My Drive/cityscapes/leftImg8bit/test/bonn/bonn_000008_000019_leftImg8bit.png\n",
            "/content/drive/My Drive/cityscapes/leftImg8bit/test/bonn/bonn_000027_000019_leftImg8bit.png\n",
            "/content/drive/My Drive/cityscapes/leftImg8bit/test/bonn/bonn_000015_000019_leftImg8bit.png\n",
            "/content/drive/My Drive/cityscapes/leftImg8bit/test/bonn/bonn_000029_000019_leftImg8bit.png\n",
            "/content/drive/My Drive/cityscapes/leftImg8bit/test/bonn/bonn_000028_000019_leftImg8bit.png\n",
            "/content/drive/My Drive/cityscapes/leftImg8bit/test/bonn/bonn_000021_000019_leftImg8bit.png\n",
            "/content/drive/My Drive/cityscapes/leftImg8bit/test/bonn/bonn_000001_000019_leftImg8bit.png\n",
            "/content/drive/My Drive/cityscapes/leftImg8bit/test/bonn/bonn_000010_000019_leftImg8bit.png\n",
            "/content/drive/My Drive/cityscapes/leftImg8bit/test/bonn/bonn_000002_000019_leftImg8bit.png\n"
          ],
          "name": "stdout"
        }
      ]
    },
    {
      "cell_type": "code",
      "metadata": {
        "id": "Gjc3MHGX_oue",
        "colab_type": "code",
        "colab": {}
      },
      "source": [
        ""
      ],
      "execution_count": 0,
      "outputs": []
    }
  ]
}